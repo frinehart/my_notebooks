{
 "cells": [
  {
   "cell_type": "code",
   "execution_count": 1,
   "metadata": {},
   "outputs": [],
   "source": [
    "import pandas as pd\n",
    "import numpy as np\n",
    "import matplotlib.pyplot as plt"
   ]
  },
  {
   "cell_type": "code",
   "execution_count": 6,
   "metadata": {},
   "outputs": [
    {
     "data": {
      "text/html": [
       "<div>\n",
       "<style scoped>\n",
       "    .dataframe tbody tr th:only-of-type {\n",
       "        vertical-align: middle;\n",
       "    }\n",
       "\n",
       "    .dataframe tbody tr th {\n",
       "        vertical-align: top;\n",
       "    }\n",
       "\n",
       "    .dataframe thead th {\n",
       "        text-align: right;\n",
       "    }\n",
       "</style>\n",
       "<table border=\"1\" class=\"dataframe\">\n",
       "  <thead>\n",
       "    <tr style=\"text-align: right;\">\n",
       "      <th></th>\n",
       "      <th>Unnamed: 0</th>\n",
       "      <th>Date</th>\n",
       "      <th>Country</th>\n",
       "      <th>City</th>\n",
       "      <th>Killed</th>\n",
       "      <th>Injured</th>\n",
       "      <th>Description</th>\n",
       "    </tr>\n",
       "  </thead>\n",
       "  <tbody>\n",
       "    <tr>\n",
       "      <th>0</th>\n",
       "      <td>1</td>\n",
       "      <td>2002-01-01</td>\n",
       "      <td>Indonesia</td>\n",
       "      <td>Palu</td>\n",
       "      <td>1</td>\n",
       "      <td>0</td>\n",
       "      <td>Four bombs explode at Christian churches and o...</td>\n",
       "    </tr>\n",
       "    <tr>\n",
       "      <th>1</th>\n",
       "      <td>2</td>\n",
       "      <td>2002-01-01</td>\n",
       "      <td>India</td>\n",
       "      <td>Baramulla</td>\n",
       "      <td>1</td>\n",
       "      <td>0</td>\n",
       "      <td>Terrorists enter the home of a civilian and ki...</td>\n",
       "    </tr>\n",
       "    <tr>\n",
       "      <th>2</th>\n",
       "      <td>3</td>\n",
       "      <td>2002-01-01</td>\n",
       "      <td>India</td>\n",
       "      <td>Poshkar</td>\n",
       "      <td>2</td>\n",
       "      <td>0</td>\n",
       "      <td>Two civilians are abducted from their homes th...</td>\n",
       "    </tr>\n",
       "    <tr>\n",
       "      <th>3</th>\n",
       "      <td>4</td>\n",
       "      <td>2002-01-02</td>\n",
       "      <td>India</td>\n",
       "      <td>Rajouri</td>\n",
       "      <td>6</td>\n",
       "      <td>9</td>\n",
       "      <td>Three separate terror attacks in the district ...</td>\n",
       "    </tr>\n",
       "    <tr>\n",
       "      <th>4</th>\n",
       "      <td>5</td>\n",
       "      <td>2002-01-02</td>\n",
       "      <td>India</td>\n",
       "      <td>Jehangir Chowk</td>\n",
       "      <td>2</td>\n",
       "      <td>25</td>\n",
       "      <td>A Muslim militant kills two and injures twenty...</td>\n",
       "    </tr>\n",
       "  </tbody>\n",
       "</table>\n",
       "</div>"
      ],
      "text/plain": [
       "   Unnamed: 0        Date    Country            City  Killed  Injured  \\\n",
       "0           1  2002-01-01  Indonesia            Palu       1        0   \n",
       "1           2  2002-01-01      India       Baramulla       1        0   \n",
       "2           3  2002-01-01      India         Poshkar       2        0   \n",
       "3           4  2002-01-02      India         Rajouri       6        9   \n",
       "4           5  2002-01-02      India  Jehangir Chowk       2       25   \n",
       "\n",
       "                                         Description  \n",
       "0  Four bombs explode at Christian churches and o...  \n",
       "1  Terrorists enter the home of a civilian and ki...  \n",
       "2  Two civilians are abducted from their homes th...  \n",
       "3  Three separate terror attacks in the district ...  \n",
       "4  A Muslim militant kills two and injures twenty...  "
      ]
     },
     "execution_count": 6,
     "metadata": {},
     "output_type": "execute_result"
    }
   ],
   "source": [
    "data = pd.read_csv(r\"attack_data.csv\")\n",
    "data.head()"
   ]
  }
 ],
 "metadata": {
  "kernelspec": {
   "display_name": "base",
   "language": "python",
   "name": "python3"
  },
  "language_info": {
   "codemirror_mode": {
    "name": "ipython",
    "version": 3
   },
   "file_extension": ".py",
   "mimetype": "text/x-python",
   "name": "python",
   "nbconvert_exporter": "python",
   "pygments_lexer": "ipython3",
   "version": "3.11.7"
  }
 },
 "nbformat": 4,
 "nbformat_minor": 2
}
